{
 "cells": [
  {
   "cell_type": "code",
   "execution_count": 5,
   "id": "1fe9fe24-6366-4016-9373-1a58c18db798",
   "metadata": {},
   "outputs": [
    {
     "name": "stdout",
     "output_type": "stream",
     "text": [
      "Original data shape: (768, 8)\n",
      "Transformed data shape: (768, 2)\n",
      "Eigenvalues: [2.09711056 1.73346726 1.03097228 0.87667054 0.76333832 0.68351839\n",
      " 0.42036353 0.40498938]\n",
      "Principal components:\n",
      "[[-0.1284321  -0.59378583]\n",
      " [-0.39308257 -0.17402908]\n",
      " [-0.36000261 -0.18389207]\n",
      " [-0.43982428  0.33196534]\n",
      " [-0.43502617  0.25078106]\n",
      " [-0.45194134  0.1009598 ]\n",
      " [-0.27061144  0.122069  ]\n",
      " [-0.19802707 -0.62058853]]\n"
     ]
    }
   ],
   "source": [
    "import numpy as np\n",
    "import pandas as pd\n",
    "\n",
    "def pca(X, num_components):\n",
    "    # Standardize the data (subtract mean and divide by standard deviation)\n",
    "    X_standardized = (X - np.mean(X, axis=0)) / np.std(X, axis=0)\n",
    "\n",
    "    # Compute the covariance matrix\n",
    "    cov_matrix = np.cov(X_standardized, rowvar=False)\n",
    "\n",
    "    # Compute eigenvalues and eigenvectors of the covariance matrix\n",
    "    eigenvalues, eigenvectors = np.linalg.eig(cov_matrix)\n",
    "\n",
    "    # Sort eigenvalues and corresponding eigenvectors in descending order\n",
    "    sorted_indices = np.argsort(eigenvalues)[::-1]\n",
    "    eigenvalues = eigenvalues[sorted_indices]\n",
    "    eigenvectors = eigenvectors[:, sorted_indices]\n",
    "\n",
    "    # Select the top 'num_components' eigenvectors\n",
    "    principal_components = eigenvectors[:, :num_components]\n",
    "\n",
    "    # Project the standardized data onto the principal components\n",
    "    transformed_data = np.dot(X_standardized, principal_components)\n",
    "\n",
    "    return transformed_data, eigenvalues, principal_components\n",
    "\n",
    "# Load the diabetes dataset\n",
    "diabetes_data = pd.read_csv(\"diabetes.csv\")\n",
    "\n",
    "# Extract features (X) and target variable (y)\n",
    "X = diabetes_data.drop(columns=['Outcome'])\n",
    "y = diabetes_data['Outcome']\n",
    "\n",
    "# Apply PCA\n",
    "num_components = 2\n",
    "transformed_data, eigenvalues, principal_components = pca(X.values, num_components)\n",
    "\n",
    "# Print the results\n",
    "print(\"Original data shape:\", X.shape)\n",
    "print(\"Transformed data shape:\", transformed_data.shape)\n",
    "print(\"Eigenvalues:\", eigenvalues)\n",
    "print(\"Principal components:\")\n",
    "print(principal_components)\n"
   ]
  },
  {
   "cell_type": "code",
   "execution_count": 1,
   "id": "60f40cfe-14f1-4ae7-b3cd-6c9759f3ee2a",
   "metadata": {},
   "outputs": [
    {
     "name": "stdout",
     "output_type": "stream",
     "text": [
      "Original data shape: (768, 8)\n",
      "Transformed data shape: (768, 2)\n",
      "Explained variance ratio: [0.88854663 0.06159078]\n",
      "Principal components:\n",
      "[[-2.02176587e-03  9.78115765e-02  1.60930503e-02  6.07566861e-02\n",
      "   9.93110844e-01  1.40108085e-02  5.37167919e-04 -3.56474430e-03]\n",
      " [-2.26488861e-02 -9.72210040e-01 -1.41909330e-01  5.78614699e-02\n",
      "   9.46266913e-02 -4.69729766e-02 -8.16804621e-04 -1.40168181e-01]]\n"
     ]
    }
   ],
   "source": [
    "import numpy as np\n",
    "import pandas as pd\n",
    "from sklearn.decomposition import PCA\n",
    "import matplotlib.pyplot as plt\n",
    "\n",
    "# Load the diabetes dataset\n",
    "diabetes_data = pd.read_csv(\"diabetes.csv\")\n",
    "\n",
    "# Extract features (X) and target variable (y)\n",
    "X = diabetes_data.drop(columns=['Outcome'])\n",
    "y = diabetes_data['Outcome']\n",
    "\n",
    "# Apply PCA\n",
    "pca = PCA(n_components=2)\n",
    "transformed_data = pca.fit_transform(X)\n",
    "\n",
    "# Output the transformed data\n",
    "print(\"Original data shape:\", X.shape)\n",
    "print(\"Transformed data shape:\", transformed_data.shape)\n",
    "print(\"Explained variance ratio:\", pca.explained_variance_ratio_)\n",
    "print(\"Principal components:\")\n",
    "print(pca.components_)\n"
   ]
  },
  {
   "cell_type": "code",
   "execution_count": null,
   "id": "ab0542d6-ccfe-4001-9daa-89ed491dfc02",
   "metadata": {},
   "outputs": [],
   "source": []
  }
 ],
 "metadata": {
  "kernelspec": {
   "display_name": "Python 3 (ipykernel)",
   "language": "python",
   "name": "python3"
  },
  "language_info": {
   "codemirror_mode": {
    "name": "ipython",
    "version": 3
   },
   "file_extension": ".py",
   "mimetype": "text/x-python",
   "name": "python",
   "nbconvert_exporter": "python",
   "pygments_lexer": "ipython3",
   "version": "3.10.6"
  }
 },
 "nbformat": 4,
 "nbformat_minor": 5
}
