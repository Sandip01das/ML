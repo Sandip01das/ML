{
 "cells": [
  {
   "cell_type": "code",
   "execution_count": 18,
   "id": "a0b962c4-f729-44be-82a1-d1c3dc020ae6",
   "metadata": {},
   "outputs": [
    {
     "name": "stdout",
     "output_type": "stream",
     "text": [
      "Predictions: ['Yes', 'Yes', 'Yes']\n",
      "Accuracy: 0.6666666666666666\n"
     ]
    }
   ],
   "source": [
    "import pandas as pd\n",
    "import numpy as np\n",
    "from sklearn.model_selection import train_test_split\n",
    "from sklearn.metrics import accuracy_score\n",
    "\n",
    "class NaiveBayesClassifier:\n",
    "    def __init__(self):\n",
    "        self.class_probs = {}\n",
    "        self.feature_probs = {}\n",
    "\n",
    "    def fit(self, X, y):\n",
    "        num_samples, num_features = X.shape\n",
    "        unique_classes = np.unique(y)\n",
    "\n",
    "        for c in unique_classes:\n",
    "            # Calculate class probabilities\n",
    "            self.class_probs[c] = np.sum(y == c) / num_samples\n",
    "\n",
    "            # Calculate feature probabilities for each class\n",
    "            features_given_class = X[y == c]\n",
    "            class_feature_probs = {}\n",
    "\n",
    "            for feature_idx in range(num_features):\n",
    "                unique_values, counts = np.unique(features_given_class[:, feature_idx], return_counts=True)\n",
    "                class_feature_probs[feature_idx] = dict(zip(unique_values, counts / len(features_given_class)))\n",
    "\n",
    "            self.feature_probs[c] = class_feature_probs\n",
    "\n",
    "    def predict(self, X):\n",
    "        predictions = []\n",
    "\n",
    "        for sample in X:\n",
    "            class_scores = {}\n",
    "\n",
    "            for c, class_prob in self.class_probs.items():\n",
    "                class_feature_probs = self.feature_probs[c]\n",
    "                log_prob = 0\n",
    "\n",
    "                for feature_idx, value in enumerate(sample):\n",
    "                    if value in class_feature_probs[feature_idx]:\n",
    "                        log_prob += np.log(class_feature_probs[feature_idx][value])\n",
    "                    else:\n",
    "                        # If the value is not observed in the training data for this class and feature,\n",
    "                        # assign a small non-zero probability (pseudocount)\n",
    "                        log_prob += np.log(1e-5)\n",
    "\n",
    "                class_scores[c] = np.log(class_prob) + log_prob\n",
    "\n",
    "            # Predict the class with the highest probability\n",
    "            predicted_class = max(class_scores, key=class_scores.get)\n",
    "            predictions.append(predicted_class)\n",
    "\n",
    "        return predictions\n",
    "\n",
    "# Load the dataset\n",
    "data = pd.read_csv(\"play_tennis.csv\")\n",
    "data = data.drop('day',axis=1)\n",
    "# Extract features and labels\n",
    "X = data.drop('play', axis=1).values\n",
    "y = data['play'].values\n",
    "\n",
    "# Split the data into training and testing sets\n",
    "X_train, X_test, y_train, y_test = train_test_split(X, y, test_size=0.2, random_state=42)\n",
    "\n",
    "# Example usage:\n",
    "nb_classifier = NaiveBayesClassifier()\n",
    "nb_classifier.fit(X_train, y_train)\n",
    "predictions = nb_classifier.predict(X_test)\n",
    "\n",
    "# Calculate accuracy using accuracy_score\n",
    "accuracy = accuracy_score(y_test, predictions)\n",
    "print(\"Predictions:\", predictions)\n",
    "print(\"Accuracy:\", accuracy)\n"
   ]
  },
  {
   "cell_type": "code",
   "execution_count": 19,
   "id": "a6741483-d4f9-46f5-bfc9-2d5c06c64deb",
   "metadata": {},
   "outputs": [
    {
     "data": {
      "text/plain": [
       "array([['Rain', 'Mild', 'Normal', 'Weak'],\n",
       "       ['Overcast', 'Mild', 'High', 'Strong'],\n",
       "       ['Sunny', 'Hot', 'High', 'Weak']], dtype=object)"
      ]
     },
     "execution_count": 19,
     "metadata": {},
     "output_type": "execute_result"
    }
   ],
   "source": [
    "X_test"
   ]
  },
  {
   "cell_type": "code",
   "execution_count": 20,
   "id": "d49b8e5e-2394-4be2-80d8-dd929471f56b",
   "metadata": {},
   "outputs": [
    {
     "data": {
      "text/plain": [
       "array(['Yes', 'Yes', 'No'], dtype=object)"
      ]
     },
     "execution_count": 20,
     "metadata": {},
     "output_type": "execute_result"
    }
   ],
   "source": [
    "y_test"
   ]
  },
  {
   "cell_type": "code",
   "execution_count": null,
   "id": "4f1fbd5b-fb08-4f2c-8c35-aa8a556e3e41",
   "metadata": {},
   "outputs": [],
   "source": []
  }
 ],
 "metadata": {
  "kernelspec": {
   "display_name": "Python 3 (ipykernel)",
   "language": "python",
   "name": "python3"
  },
  "language_info": {
   "codemirror_mode": {
    "name": "ipython",
    "version": 3
   },
   "file_extension": ".py",
   "mimetype": "text/x-python",
   "name": "python",
   "nbconvert_exporter": "python",
   "pygments_lexer": "ipython3",
   "version": "3.10.6"
  }
 },
 "nbformat": 4,
 "nbformat_minor": 5
}
