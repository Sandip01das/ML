{
 "cells": [
  {
   "cell_type": "code",
   "execution_count": 28,
   "id": "c7e767ac-f979-46c2-b019-f1b4ce2f96f9",
   "metadata": {},
   "outputs": [
    {
     "name": "stdout",
     "output_type": "stream",
     "text": [
      "Predictions: [1, 0, 0]\n",
      "Accuracy: 0.6666666666666666\n"
     ]
    },
    {
     "name": "stderr",
     "output_type": "stream",
     "text": [
      "/tmp/ipykernel_159/2964415980.py:33: RuntimeWarning: invalid value encountered in log\n",
      "  log_prob = np.sum(np.log(sample * feature_probs_given_class + (1 - sample) * (1 - feature_probs_given_class)))\n"
     ]
    }
   ],
   "source": [
    "import pandas as pd\n",
    "import numpy as np\n",
    "from sklearn.model_selection import train_test_split\n",
    "from sklearn.metrics import accuracy_score\n",
    "from sklearn.preprocessing import LabelEncoder\n",
    "\n",
    "class NaiveBayesClassifier:\n",
    "    def __init__(self):\n",
    "        self.class_probs = {}\n",
    "        self.feature_probs = {}\n",
    "\n",
    "    def fit(self, X, y):\n",
    "        num_samples, num_features = X.shape\n",
    "        unique_classes = np.unique(y)\n",
    "\n",
    "        for c in unique_classes:\n",
    "            # Calculate class probabilities\n",
    "            self.class_probs[c] = np.sum(y == c) / num_samples\n",
    "\n",
    "            # Calculate feature probabilities for each class\n",
    "            features_given_class = X[y == c]\n",
    "            self.feature_probs[c] = np.sum(features_given_class, axis=0) / np.sum(y == c)\n",
    "\n",
    "    def predict(self, X):\n",
    "        predictions = []\n",
    "\n",
    "        for sample in X:\n",
    "            class_scores = {}\n",
    "\n",
    "            for c, class_prob in self.class_probs.items():\n",
    "                # Calculate the probability of the sample belonging to each class\n",
    "                feature_probs_given_class = self.feature_probs[c]\n",
    "                log_prob = np.sum(np.log(sample * feature_probs_given_class + (1 - sample) * (1 - feature_probs_given_class)))\n",
    "                class_scores[c] = np.log(class_prob) + log_prob\n",
    "\n",
    "            # Predict the class with the highest probability\n",
    "            predicted_class = max(class_scores, key=class_scores.get)\n",
    "            predictions.append(predicted_class)\n",
    "\n",
    "        return predictions\n",
    "\n",
    "# Load the dataset\n",
    "data = pd.read_csv(\"play_tennis.csv\")\n",
    "\n",
    "# Convert categorical features to numerical values using label encoding\n",
    "label_encoder = LabelEncoder()\n",
    "for column in data.select_dtypes(include=['object']).columns:\n",
    "    data[column] = label_encoder.fit_transform(data[column])\n",
    "\n",
    "# Extract features and labels\n",
    "X = data.drop('play', axis=1).values\n",
    "y = data['play'].values\n",
    "\n",
    "# Split the data into training and testing sets using sklearn\n",
    "X_train, X_test, y_train, y_test = train_test_split(X, y, test_size=0.2, random_state=42)\n",
    "\n",
    "# Example usage:\n",
    "nb_classifier = NaiveBayesClassifier()\n",
    "nb_classifier.fit(X_train, y_train)\n",
    "predictions = nb_classifier.predict(X_test)\n",
    "\n",
    "# Calculate accuracy using accuracy_score\n",
    "accuracy = accuracy_score(y_test, predictions)\n",
    "print(\"Predictions:\", predictions)\n",
    "print(\"Accuracy:\", accuracy)\n"
   ]
  },
  {
   "cell_type": "code",
   "execution_count": 29,
   "id": "7a491537-2eb4-4f30-8ec3-1acfd4f975d3",
   "metadata": {},
   "outputs": [
    {
     "data": {
      "text/plain": [
       "array([[1, 1, 2, 1, 1],\n",
       "       [3, 0, 2, 0, 0],\n",
       "       [0, 2, 1, 0, 1]])"
      ]
     },
     "execution_count": 29,
     "metadata": {},
     "output_type": "execute_result"
    }
   ],
   "source": [
    "X_test"
   ]
  },
  {
   "cell_type": "code",
   "execution_count": 30,
   "id": "275fd9f9-66fc-4517-befa-ef38ac7b0b3f",
   "metadata": {},
   "outputs": [
    {
     "data": {
      "text/plain": [
       "array([1, 1, 0])"
      ]
     },
     "execution_count": 30,
     "metadata": {},
     "output_type": "execute_result"
    }
   ],
   "source": [
    "y_test"
   ]
  },
  {
   "cell_type": "code",
   "execution_count": null,
   "id": "c7b6c669-3d08-471b-af32-58f9df496417",
   "metadata": {},
   "outputs": [],
   "source": []
  }
 ],
 "metadata": {
  "kernelspec": {
   "display_name": "Python 3 (ipykernel)",
   "language": "python",
   "name": "python3"
  },
  "language_info": {
   "codemirror_mode": {
    "name": "ipython",
    "version": 3
   },
   "file_extension": ".py",
   "mimetype": "text/x-python",
   "name": "python",
   "nbconvert_exporter": "python",
   "pygments_lexer": "ipython3",
   "version": "3.10.6"
  }
 },
 "nbformat": 4,
 "nbformat_minor": 5
}
