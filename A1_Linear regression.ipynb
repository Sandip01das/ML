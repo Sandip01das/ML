{
 "cells": [
  {
   "cell_type": "code",
   "execution_count": 3,
   "id": "4f9dbaeb",
   "metadata": {},
   "outputs": [],
   "source": [
    "import pandas as pd\n",
    "import numpy as np\n",
    "from sklearn.model_selection import train_test_split"
   ]
  },
  {
   "cell_type": "code",
   "execution_count": 4,
   "id": "31021447",
   "metadata": {},
   "outputs": [],
   "source": [
    "data = pd.read_csv('placement_LinearRegression.csv')"
   ]
  },
  {
   "cell_type": "code",
   "execution_count": 5,
   "id": "6df9a897",
   "metadata": {},
   "outputs": [
    {
     "data": {
      "text/html": [
       "<div>\n",
       "<style scoped>\n",
       "    .dataframe tbody tr th:only-of-type {\n",
       "        vertical-align: middle;\n",
       "    }\n",
       "\n",
       "    .dataframe tbody tr th {\n",
       "        vertical-align: top;\n",
       "    }\n",
       "\n",
       "    .dataframe thead th {\n",
       "        text-align: right;\n",
       "    }\n",
       "</style>\n",
       "<table border=\"1\" class=\"dataframe\">\n",
       "  <thead>\n",
       "    <tr style=\"text-align: right;\">\n",
       "      <th></th>\n",
       "      <th>cgpa</th>\n",
       "      <th>package</th>\n",
       "    </tr>\n",
       "  </thead>\n",
       "  <tbody>\n",
       "    <tr>\n",
       "      <th>0</th>\n",
       "      <td>6.89</td>\n",
       "      <td>3.26</td>\n",
       "    </tr>\n",
       "    <tr>\n",
       "      <th>1</th>\n",
       "      <td>5.12</td>\n",
       "      <td>1.98</td>\n",
       "    </tr>\n",
       "    <tr>\n",
       "      <th>2</th>\n",
       "      <td>7.82</td>\n",
       "      <td>3.25</td>\n",
       "    </tr>\n",
       "    <tr>\n",
       "      <th>3</th>\n",
       "      <td>7.42</td>\n",
       "      <td>3.67</td>\n",
       "    </tr>\n",
       "    <tr>\n",
       "      <th>4</th>\n",
       "      <td>6.94</td>\n",
       "      <td>3.57</td>\n",
       "    </tr>\n",
       "  </tbody>\n",
       "</table>\n",
       "</div>"
      ],
      "text/plain": [
       "   cgpa  package\n",
       "0  6.89     3.26\n",
       "1  5.12     1.98\n",
       "2  7.82     3.25\n",
       "3  7.42     3.67\n",
       "4  6.94     3.57"
      ]
     },
     "execution_count": 5,
     "metadata": {},
     "output_type": "execute_result"
    }
   ],
   "source": [
    "data.head()"
   ]
  },
  {
   "cell_type": "code",
   "execution_count": 6,
   "id": "a2c8ae4a",
   "metadata": {},
   "outputs": [],
   "source": [
    "X = data.iloc[:,0].values\n",
    "\n",
    "y = data.iloc[:,1].values"
   ]
  },
  {
   "cell_type": "code",
   "execution_count": 7,
   "id": "67542421",
   "metadata": {},
   "outputs": [],
   "source": [
    "X_train, X_test, y_train, y_test = train_test_split(X, y, test_size=0.2, random_state=42)"
   ]
  },
  {
   "cell_type": "code",
   "execution_count": 8,
   "id": "f16570c0",
   "metadata": {},
   "outputs": [
    {
     "data": {
      "text/plain": [
       "array([7.18, 7.21, 8.62, 6.53, 5.12, 6.93, 7.15, 7.48, 4.85, 7.61, 5.84,\n",
       "       6.75, 7.89, 5.91, 7.12, 8.44, 7.91, 7.69, 6.93, 7.11, 9.31, 5.98,\n",
       "       8.1 , 8.94, 6.87, 7.39, 5.95, 8.11, 7.11, 5.64, 9.26, 6.78, 5.53,\n",
       "       6.89, 7.4 , 6.94, 8.31, 7.19, 7.95, 5.42, 7.82, 8.99, 6.07, 6.26,\n",
       "       7.28, 4.79, 7.3 , 5.99, 6.19, 5.48, 6.14, 6.76, 6.71, 6.35, 6.61,\n",
       "       7.89, 8.71, 6.73, 5.42, 5.23, 6.94, 6.96, 6.93, 5.84, 7.77, 6.17,\n",
       "       5.32, 6.34, 8.58, 6.07, 8.6 , 6.89, 7.63, 7.94, 5.79, 5.1 , 7.36,\n",
       "       5.09, 8.93, 5.94, 9.38, 7.76, 6.98, 7.38, 7.28, 6.19, 7.88, 5.66,\n",
       "       6.1 , 7.43, 8.65, 5.84, 5.83, 7.08, 7.66, 7.91, 7.42, 6.66, 6.47,\n",
       "       6.05, 6.19, 8.15, 6.31, 8.87, 7.63, 7.34, 6.75, 8.18, 6.22, 8.44,\n",
       "       6.29, 8.22, 6.42, 6.09, 6.93, 7.56, 8.01, 6.37, 5.38, 7.78, 7.04,\n",
       "       7.2 , 8.13, 7.28, 9.16, 6.86, 6.33, 9.58, 5.89, 6.92, 8.63, 4.73,\n",
       "       6.85, 6.6 , 7.13, 8.25, 7.29, 5.9 , 6.47, 4.57, 5.12, 8.37, 8.28,\n",
       "       6.68, 6.12, 7.05, 6.61, 9.04, 8.09, 6.85, 6.5 , 6.22, 7.28, 7.35,\n",
       "       7.47, 6.13, 7.73, 7.9 , 7.14, 5.13])"
      ]
     },
     "execution_count": 8,
     "metadata": {},
     "output_type": "execute_result"
    }
   ],
   "source": [
    "X_train"
   ]
  },
  {
   "cell_type": "code",
   "execution_count": 9,
   "id": "81311e4d",
   "metadata": {},
   "outputs": [
    {
     "data": {
      "text/plain": [
       "array([6.63, 7.25, 7.36, 5.95, 7.93, 8.35, 7.3 , 6.22, 7.32, 7.87, 5.11,\n",
       "       5.88, 8.21, 6.59, 7.84, 7.09, 5.84, 7.37, 5.58, 7.56, 6.06, 6.84,\n",
       "       7.57, 6.79, 7.6 , 5.61, 4.26, 6.51, 7.33, 5.84, 8.31, 6.94, 8.2 ,\n",
       "       6.97, 6.3 , 7.62, 6.1 , 7.14, 9.06, 6.94])"
      ]
     },
     "execution_count": 9,
     "metadata": {},
     "output_type": "execute_result"
    }
   ],
   "source": [
    "X_test"
   ]
  },
  {
   "cell_type": "code",
   "execution_count": 10,
   "id": "56428061",
   "metadata": {},
   "outputs": [
    {
     "data": {
      "text/plain": [
       "array([3.  , 3.24, 4.36, 2.71, 2.01, 2.46, 3.49, 2.83, 1.54, 2.77, 1.87,\n",
       "       2.56, 2.99, 2.6 , 2.99, 4.03, 3.15, 3.83, 2.51, 2.61, 4.37, 2.84,\n",
       "       3.89, 3.65, 2.87, 2.65, 2.54, 4.06, 2.66, 2.1 , 3.79, 3.11, 2.55,\n",
       "       2.7 , 2.88, 2.37, 3.42, 2.4 , 4.14, 2.25, 3.25, 4.6 , 2.26, 2.44,\n",
       "       3.48, 1.48, 3.33, 2.84, 2.69, 1.61, 2.3 , 3.18, 3.52, 2.73, 2.6 ,\n",
       "       3.67, 4.08, 2.6 , 2.16, 1.73, 3.57, 3.08, 3.04, 2.18, 4.06, 2.42,\n",
       "       1.86, 2.09, 4.1 , 2.46, 3.98, 3.26, 3.96, 3.99, 2.35, 2.3 , 2.92,\n",
       "       1.86, 3.91, 2.24, 4.02, 3.54, 3.09, 3.13, 3.65, 2.48, 3.14, 2.21,\n",
       "       2.2 , 3.33, 3.52, 3.26, 2.42, 2.85, 2.76, 3.89, 3.67, 2.82, 2.61,\n",
       "       2.58, 2.72, 3.63, 3.18, 4.62, 3.44, 3.42, 2.48, 3.76, 2.14, 3.49,\n",
       "       3.23, 3.89, 2.72, 2.31, 2.89, 3.31, 3.76, 2.01, 2.09, 3.62, 3.5 ,\n",
       "       2.83, 3.6 , 2.72, 4.25, 3.09, 2.59, 4.43, 2.57, 3.09, 4.09, 1.48,\n",
       "       2.93, 1.94, 2.93, 3.75, 3.12, 2.43, 2.7 , 1.94, 1.98, 4.11, 3.67,\n",
       "       2.49, 2.76, 3.  , 3.24, 3.33, 3.55, 3.44, 3.02, 2.33, 3.16, 3.08,\n",
       "       3.34, 2.19, 3.42, 4.  , 3.03, 1.37])"
      ]
     },
     "execution_count": 10,
     "metadata": {},
     "output_type": "execute_result"
    }
   ],
   "source": [
    "y_train"
   ]
  },
  {
   "cell_type": "code",
   "execution_count": 11,
   "id": "601e2deb",
   "metadata": {},
   "outputs": [
    {
     "data": {
      "text/plain": [
       "array([2.79, 3.23, 3.26, 3.04, 3.34, 4.21, 2.94, 2.87, 2.99, 3.58, 1.63,\n",
       "       2.08, 4.08, 2.21, 3.47, 3.64, 2.74, 3.08, 2.17, 2.99, 2.31, 2.35,\n",
       "       3.4 , 3.08, 3.81, 2.19, 1.53, 2.89, 3.16, 2.48, 3.51, 2.98, 3.39,\n",
       "       3.28, 2.73, 3.74, 2.6 , 3.13, 3.82, 3.15])"
      ]
     },
     "execution_count": 11,
     "metadata": {},
     "output_type": "execute_result"
    }
   ],
   "source": [
    "y_test"
   ]
  },
  {
   "cell_type": "code",
   "execution_count": 19,
   "id": "c73f0f1b",
   "metadata": {},
   "outputs": [],
   "source": [
    "def LinearRegression(X_train,y_train):\n",
    "    n=0\n",
    "    d=0 \n",
    "    m = 0\n",
    "    c = 0\n",
    "    for i in range (X_train.shape[0]):\n",
    "        \n",
    "        n = n+((X_train[i]-X_train.mean())*(y_train[i]-y_train.mean()))\n",
    "        d = d+((X_train[i]-X_train.mean())**2)\n",
    "    \n",
    "    m = n/d\n",
    "    c = y_train.mean()-(m*X_train.mean())\n",
    "    \n",
    "    return m,c\n",
    "\n",
    "def predict(m,c,X_test):\n",
    "    y=m*X_test+c\n",
    "    return y"
   ]
  },
  {
   "cell_type": "code",
   "execution_count": 21,
   "id": "a66c74c2",
   "metadata": {},
   "outputs": [
    {
     "name": "stdout",
     "output_type": "stream",
     "text": [
      "0.5742564727019197\n",
      "-1.0270069374542108\n"
     ]
    }
   ],
   "source": [
    "m,c=LinearRegression(X_train,y_train)\n",
    "print(m)\n",
    "print(c)"
   ]
  },
  {
   "cell_type": "code",
   "execution_count": 27,
   "id": "e33e6be6",
   "metadata": {},
   "outputs": [
    {
     "name": "stdout",
     "output_type": "stream",
     "text": [
      "3.136352489634707\n",
      "7.25\n"
     ]
    }
   ],
   "source": [
    "print(predict(m,c,X_test[1]))\n",
    "print(X_test[1])"
   ]
  },
  {
   "cell_type": "code",
   "execution_count": 28,
   "id": "f1680c0f",
   "metadata": {},
   "outputs": [],
   "source": [
    "y_pred = predict(m, c, X_test)"
   ]
  },
  {
   "cell_type": "code",
   "execution_count": 24,
   "id": "624c7c9f",
   "metadata": {},
   "outputs": [
    {
     "data": {
      "image/png": "[encoded data removed]",
      "text/plain": [
       "<Figure size 640x480 with 1 Axes>"
      ]
     },
     "metadata": {},
     "output_type": "display_data"
    }
   ],
   "source": [
    "import matplotlib.pyplot as plt\n",
    "plt.scatter(X_train, y_train, label='Training Data')\n",
    "plt.plot(X_train, m * X_train + c, color='red', label='Regression Line')\n",
    "plt.scatter(X_test, y_pred, color='green', label='Predicted Value')\n",
    "plt.xlabel('X')\n",
    "plt.ylabel('y')\n",
    "plt.legend()\n",
    "plt.show()"
   ]
  },
  {
   "cell_type": "code",
   "execution_count": null,
   "id": "1358ce83",
   "metadata": {},
   "outputs": [],
   "source": []
  }
 ],
 "metadata": {
  "kernelspec": {
   "display_name": "Python 3 (ipykernel)",
   "language": "python",
   "name": "python3"
  },
  "language_info": {
   "codemirror_mode": {
    "name": "ipython",
    "version": 3
   },
   "file_extension": ".py",
   "mimetype": "text/x-python",
   "name": "python",
   "nbconvert_exporter": "python",
   "pygments_lexer": "ipython3",
   "version": "3.9.13"
  }
 },
 "nbformat": 4,
 "nbformat_minor": 5
}
