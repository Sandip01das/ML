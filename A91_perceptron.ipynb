{
  "metadata": {
    "kernelspec": {
      "name": "python",
      "display_name": "Python (Pyodide)",
      "language": "python"
    },
    "language_info": {
      "codemirror_mode": {
        "name": "python",
        "version": 3
      },
      "file_extension": ".py",
      "mimetype": "text/x-python",
      "name": "python",
      "nbconvert_exporter": "python",
      "pygments_lexer": "ipython3",
      "version": "3.8"
    }
  },
  "nbformat_minor": 4,
  "nbformat": 4,
  "cells": [
    {
      "cell_type": "code",
      "source": "import numpy as np\n\nw1 = 0\nw2 = 0\nb = 0\nlr = 1\ndef activation(yin):\n    if yin > 0:\n        return 1\n    elif yin == 0:\n        return 0\n    else:\n        return -1\n        \nepochs = 100\nfor epoch in range(epochs):\n    for i in range(len(X)):\n        yin = b + w1 * X[i][0] + w2 * X[i][1]\n        y = activation(yin)\n        if y != T[i]:\n            w1 += lr * T[i] * X[i][0]\n            w2 += lr * T[i] * X[i][1]\n            b += lr * T[i]\nX = np.array([[1, 1], [1, -1], [-1, 1], [-1, -1]])\nT = np.array([1, -1, -1, -1])\n\nprint(\"Final weights (w1, w2):\", w1, w2)\nprint(\"Final bias:\", b)\n",
      "metadata": {
        "trusted": true
      },
      "outputs": [
        {
          "name": "stdout",
          "text": "Final weights (w1, w2): 1 1\nFinal bias: -1\n",
          "output_type": "stream"
        }
      ],
      "execution_count": 6
    },
    {
      "cell_type": "code",
      "source": "import numpy as np\n\nweight_1 = 0\nweight_2 = 0\nbias = 0\nlearning_rate = 1\n\ndef activation(yin):\n    if yin > 0:\n        return 1\n    elif yin == 0:\n        return 0\n    else:\n        return -1\n        \nepochs = 100\n\ninput_data = np.array([[1, 1], [1, -1], [-1, 1], [-1, -1]])https://web.whatsapp.com/\ntargets = np.array([1, -1, -1, -1])\n\nfor epoch in range(epochs):\n    for i in range(len(input_data)):\n        yin = bias + weight_1 * input_data[i][0] + weight_2 * input_data[i][1]\n        y = activation(yin)\n        if y != targets[i]:\n            weight_1 += learning_rate * targets[i] * input_data[i][0]\n            weight_2 += learning_rate * targets[i] * input_data[i][1]\n            bias += learning_rate * targets[i]\n\nprint(\"Final weights (w1, w2):\", weight_1, weight_2)\nprint(\"Final bias:\", bias)\n",
      "metadata": {
        "trusted": true
      },
      "outputs": [
        {
          "name": "stdout",
          "text": "Final weights (w1, w2): 1 1\nFinal bias: -1\n",
          "output_type": "stream"
        }
      ],
      "execution_count": 1
    },
    {
      "cell_type": "code",
      "source": "",
      "metadata": {
        "trusted": true
      },
      "outputs": [],
      "execution_count": null
    }
  ]
}